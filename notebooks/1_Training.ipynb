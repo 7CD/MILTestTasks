{
  "nbformat": 4,
  "nbformat_minor": 0,
  "metadata": {
    "colab": {
      "name": "1-Training.ipynb",
      "provenance": [],
      "collapsed_sections": []
    },
    "kernelspec": {
      "name": "python3",
      "display_name": "Python 3"
    },
    "accelerator": "GPU"
  },
  "cells": [
    {
      "cell_type": "code",
      "metadata": {
        "colab": {
          "base_uri": "https://localhost:8080/"
        },
        "id": "3_ZGjpt3cwNx",
        "outputId": "0e3afedd-0c0c-45ef-b8c1-737cf1007ba2"
      },
      "source": [
        "!python src/train.py --model-path \"pretrained/model.pth\" --data-dir \"data\" -lr 0.1 --epochs 50 --gpu"
      ],
      "execution_count": null,
      "outputs": [
        {
          "output_type": "stream",
          "text": [
            "Files already downloaded and verified\n",
            "Epoch #1. lr: 0.1, train loss: 1.698014639891111, val loss: 1.3197449947658337, val accuracy: 0.5151110197368421 (best: 0.5151110197368421)\n",
            "Epoch #2. lr: 0.1, train loss: 1.1509531479615431, val loss: 1.5650601010573537, val accuracy: 0.5189144736842105 (best: 0.5189144736842105)\n",
            "Epoch #3. lr: 0.1, train loss: 0.9093752264976501, val loss: 1.10260177913465, val accuracy: 0.6627261513157895 (best: 0.6627261513157895)\n",
            "Epoch #4. lr: 0.1, train loss: 0.7770298555875436, val loss: 0.7937865665084437, val accuracy: 0.7313939144736842 (best: 0.7313939144736842)\n",
            "Epoch #5. lr: 0.1, train loss: 0.6825865419247211, val loss: 0.7907012073617232, val accuracy: 0.7386924342105263 (best: 0.7386924342105263)\n",
            "Epoch #6. lr: 0.1, train loss: 0.6207025573039666, val loss: 0.8861130570110521, val accuracy: 0.7159745065789473 (best: 0.7386924342105263)\n",
            "Epoch #7. lr: 0.1, train loss: 0.5790744977883804, val loss: 0.8274627076952081, val accuracy: 0.7394120065789473 (best: 0.7394120065789473)\n",
            "Epoch #8. lr: 0.1, train loss: 0.5426418649844634, val loss: 0.7401678373939112, val accuracy: 0.755139802631579 (best: 0.755139802631579)\n",
            "Epoch #9. lr: 0.1, train loss: 0.5195110419621835, val loss: 0.5762357351027037, val accuracy: 0.8079769736842105 (best: 0.8079769736842105)\n",
            "Epoch #10. lr: 0.1, train loss: 0.49363389488978265, val loss: 0.6265891570793954, val accuracy: 0.7925575657894737 (best: 0.8079769736842105)\n",
            "Epoch #11. lr: 0.1, train loss: 0.47034372496299254, val loss: 0.6235561825727162, val accuracy: 0.798108552631579 (best: 0.8079769736842105)\n",
            "Epoch #12. lr: 0.1, train loss: 0.450612621429639, val loss: 0.5971203336590215, val accuracy: 0.811780427631579 (best: 0.811780427631579)\n",
            "Epoch #13. lr: 0.1, train loss: 0.44018854143527836, val loss: 0.5082893951943046, val accuracy: 0.8264802631578947 (best: 0.8264802631578947)\n",
            "Epoch #14. lr: 0.1, train loss: 0.4258805867189016, val loss: 0.5169186043111902, val accuracy: 0.8285361842105263 (best: 0.8285361842105263)\n",
            "Epoch #15. lr: 0.1, train loss: 0.4114142333467801, val loss: 0.6834318230026647, val accuracy: 0.7816611842105263 (best: 0.8285361842105263)\n",
            "Epoch #16. lr: 0.1, train loss: 0.4048920674583851, val loss: 0.5574158320301458, val accuracy: 0.8162006578947368 (best: 0.8285361842105263)\n",
            "Epoch #17. lr: 0.1, train loss: 0.386927249454535, val loss: 0.4671310343240437, val accuracy: 0.8514597039473685 (best: 0.8514597039473685)\n",
            "Epoch #18. lr: 0.1, train loss: 0.3799930542325362, val loss: 0.5013682920681802, val accuracy: 0.8414884868421053 (best: 0.8514597039473685)\n",
            "Epoch #19. lr: 0.1, train loss: 0.37282160283663335, val loss: 0.7047135861296403, val accuracy: 0.791015625 (best: 0.8514597039473685)\n",
            "Epoch #20. lr: 0.1, train loss: 0.3694289634625117, val loss: 0.5248938610679225, val accuracy: 0.8299753289473685 (best: 0.8514597039473685)\n",
            "Epoch #21. lr: 0.1, train loss: 0.3619659247306677, val loss: 0.46721686344397695, val accuracy: 0.8494037828947368 (best: 0.8514597039473685)\n",
            "Epoch #22. lr: 0.1, train loss: 0.3517745576225794, val loss: 0.526539506096589, val accuracy: 0.8367598684210527 (best: 0.8514597039473685)\n",
            "Epoch #23. lr: 0.1, train loss: 0.34614554735330433, val loss: 0.5926657068101984, val accuracy: 0.8128083881578947 (best: 0.8514597039473685)\n",
            "Epoch #24. lr: 0.1, train loss: 0.3404991378386815, val loss: 0.5012983977794647, val accuracy: 0.8406661184210527 (best: 0.8514597039473685)\n",
            "Epoch #25. lr: 0.1, train loss: 0.3301746089871113, val loss: 0.6009555819787478, val accuracy: 0.8090049342105263 (best: 0.8514597039473685)\n",
            "Epoch #26. lr: 0.1, train loss: 0.32888021698364844, val loss: 0.49610128528193426, val accuracy: 0.8411800986842105 (best: 0.8514597039473685)\n",
            "Epoch #27. lr: 0.1, train loss: 0.32683217426141103, val loss: 0.5519621497706363, val accuracy: 0.8237047697368421 (best: 0.8514597039473685)\n",
            "Epoch #28. lr: 0.1, train loss: 0.3224157265363595, val loss: 0.5191408740846735, val accuracy: 0.8393297697368421 (best: 0.8514597039473685)\n",
            "Epoch #29. lr: 0.1, train loss: 0.32098067578596945, val loss: 0.4485705777218467, val accuracy: 0.8473478618421053 (best: 0.8514597039473685)\n",
            "Epoch #30. lr: 0.1, train loss: 0.30854670346165314, val loss: 0.4367598985370837, val accuracy: 0.8658511513157895 (best: 0.8658511513157895)\n",
            "Epoch #31. lr: 0.1, train loss: 0.30989366452663375, val loss: 0.5220223916204352, val accuracy: 0.8361430921052632 (best: 0.8658511513157895)\n",
            "Epoch #32. lr: 0.1, train loss: 0.30818543766553586, val loss: 0.46806374976509496, val accuracy: 0.8480674342105263 (best: 0.8658511513157895)\n",
            "Epoch #33. lr: 0.1, train loss: 0.298829931135361, val loss: 0.5358888632372806, val accuracy: 0.8340871710526315 (best: 0.8658511513157895)\n",
            "Epoch #34. lr: 0.1, train loss: 0.29992241553771193, val loss: 0.4064822400871076, val accuracy: 0.8686266447368421 (best: 0.8686266447368421)\n",
            "Epoch #35. lr: 0.1, train loss: 0.290276907537228, val loss: 0.4638645052909851, val accuracy: 0.8534128289473685 (best: 0.8686266447368421)\n",
            "Epoch #36. lr: 0.1, train loss: 0.2980519747886902, val loss: 0.4812122536332984, val accuracy: 0.8474506578947368 (best: 0.8686266447368421)\n",
            "Epoch #37. lr: 0.1, train loss: 0.292313339198247, val loss: 0.42668404547791733, val accuracy: 0.8637952302631579 (best: 0.8686266447368421)\n",
            "Epoch #38. lr: 0.1, train loss: 0.28660876216032566, val loss: 0.5268478393554688, val accuracy: 0.8319284539473685 (best: 0.8686266447368421)\n",
            "Epoch #39. lr: 0.1, train loss: 0.2803099139760702, val loss: 0.49674161013803986, val accuracy: 0.8440583881578947 (best: 0.8686266447368421)\n",
            "Epoch #40. lr: 0.1, train loss: 0.2774740506059084, val loss: 0.6760562250488683, val accuracy: 0.8194901315789473 (best: 0.8686266447368421)\n",
            "Epoch #41. lr: 0.1, train loss: 0.27673776004558953, val loss: 0.47003706662278427, val accuracy: 0.860608552631579 (best: 0.8686266447368421)\n",
            "Epoch #42. lr: 0.1, train loss: 0.28094692757496464, val loss: 0.5104983841118059, val accuracy: 0.8390213815789473 (best: 0.8686266447368421)\n",
            "Epoch #43. lr: 0.1, train loss: 0.2765185025257942, val loss: 0.49158352927157756, val accuracy: 0.843030427631579 (best: 0.8686266447368421)\n",
            "Exception ignored in: <function _MultiProcessingDataLoaderIter.__del__ at 0x7f6be34a5e60>\n",
            "Traceback (most recent call last):\n",
            "  File \"/usr/local/lib/python3.7/dist-packages/torch/utils/data/dataloader.py\", line 1203, in __del__\n",
            "    self._shutdown_workers()\n",
            "  File \"/usr/local/lib/python3.7/dist-packages/torch/utils/data/dataloader.py\", line 1161, in _shutdown_workers\n",
            "    self._worker_result_queue.put((None, None))\n",
            "  File \"/usr/lib/python3.7/multiprocessing/queues.py\", line 87, in put\n",
            "    self._start_thread()\n",
            "  File \"/usr/lib/python3.7/multiprocessing/queues.py\", line 170, in _start_thread\n",
            "    self._thread.start()\n",
            "  File \"/usr/lib/python3.7/threading.py\", line 857, in start\n",
            "    self._started.wait()\n",
            "  File \"/usr/lib/python3.7/threading.py\", line 552, in wait\n",
            "    signaled = self._cond.wait(timeout)\n",
            "  File \"/usr/lib/python3.7/threading.py\", line 296, in wait\n",
            "    waiter.acquire()\n",
            "KeyboardInterrupt: \n",
            "Traceback (most recent call last):\n",
            "  File \"MILTestTasks/src/train.py\", line 147, in <module>\n",
            "    main(args)\n",
            "  File \"MILTestTasks/src/train.py\", line 129, in main\n",
            "    train_loss = train(model, train_loader, loss_fn, optimizer, device)\n",
            "  File \"MILTestTasks/src/train.py\", line 43, in train\n",
            "    optimizer.step()\n",
            "  File \"/usr/local/lib/python3.7/dist-packages/torch/autograd/grad_mode.py\", line 26, in decorate_context\n",
            "    return func(*args, **kwargs)\n",
            "  File \"/usr/local/lib/python3.7/dist-packages/torch/optim/sgd.py\", line 97, in step\n",
            "    d_p = p.grad\n",
            "  File \"/usr/local/lib/python3.7/dist-packages/torch/tensor.py\", line 933, in grad\n",
            "    @property\n",
            "KeyboardInterrupt\n"
          ],
          "name": "stdout"
        }
      ]
    },
    {
      "cell_type": "code",
      "metadata": {
        "colab": {
          "base_uri": "https://localhost:8080/"
        },
        "id": "76SQ-bj8c99C",
        "outputId": "0932c419-df21-4e53-a2a2-ba81e3b38672"
      },
      "source": [
        "!python src/train.py --model-path \"pretrained/model.pth\" --data-dir \"data\" -lr 0.01 --epochs 50 --gpu --resume"
      ],
      "execution_count": null,
      "outputs": [
        {
          "output_type": "stream",
          "text": [
            "Files already downloaded and verified\n",
            "loaded checkpoint 'model1.pth' (epochs: 34, accuracy: 0.8686266447368421, lr: 0.01)\n",
            "Epoch #35. lr: 0.01, train loss: 0.20538725232084593, val loss: 0.31232939503694834, val accuracy: 0.8967927631578947 (best: 0.8967927631578947)\n",
            "Epoch #36. lr: 0.01, train loss: 0.17884934927599552, val loss: 0.3113886063036166, val accuracy: 0.8993626644736842 (best: 0.8993626644736842)\n",
            "Epoch #37. lr: 0.01, train loss: 0.16626764335311375, val loss: 0.3085191140049382, val accuracy: 0.9029605263157895 (best: 0.9029605263157895)\n",
            "Epoch #38. lr: 0.01, train loss: 0.15941541529236697, val loss: 0.30816143515862915, val accuracy: 0.9034745065789473 (best: 0.9034745065789473)\n",
            "Epoch #39. lr: 0.01, train loss: 0.14982974274227254, val loss: 0.3116585478970879, val accuracy: 0.903577302631579 (best: 0.903577302631579)\n",
            "Epoch #40. lr: 0.01, train loss: 0.1467618518628371, val loss: 0.32468805893471364, val accuracy: 0.901110197368421 (best: 0.903577302631579)\n",
            "Epoch #41. lr: 0.01, train loss: 0.1443043453953205, val loss: 0.319261866964792, val accuracy: 0.9032689144736842 (best: 0.903577302631579)\n",
            "Epoch #42. lr: 0.01, train loss: 0.14033275831204195, val loss: 0.3201134000953875, val accuracy: 0.9024465460526315 (best: 0.903577302631579)\n",
            "Epoch #43. lr: 0.01, train loss: 0.13311616432590362, val loss: 0.32237999690206426, val accuracy: 0.9017269736842105 (best: 0.903577302631579)\n",
            "Epoch #44. lr: 0.01, train loss: 0.13259625864716676, val loss: 0.3251045558013414, val accuracy: 0.9000822368421053 (best: 0.903577302631579)\n",
            "Epoch #45. lr: 0.01, train loss: 0.1283986816326013, val loss: 0.3281946903780887, val accuracy: 0.9032689144736842 (best: 0.903577302631579)\n",
            "Epoch #46. lr: 0.01, train loss: 0.12929627735836383, val loss: 0.32760648821529587, val accuracy: 0.9028577302631579 (best: 0.903577302631579)\n",
            "Epoch #47. lr: 0.01, train loss: 0.1213285585722098, val loss: 0.32881441084962143, val accuracy: 0.9024465460526315 (best: 0.903577302631579)\n",
            "Epoch #48. lr: 0.01, train loss: 0.11957398780072347, val loss: 0.3242715393242083, val accuracy: 0.9056332236842105 (best: 0.9056332236842105)\n",
            "Epoch #49. lr: 0.01, train loss: 0.11851277414422769, val loss: 0.32746895677164983, val accuracy: 0.9048108552631579 (best: 0.9056332236842105)\n",
            "Epoch #50. lr: 0.01, train loss: 0.11790271816918484, val loss: 0.33173089670507533, val accuracy: 0.904296875 (best: 0.9056332236842105)\n",
            "Epoch #51. lr: 0.01, train loss: 0.11416655111675843, val loss: 0.3412784212513974, val accuracy: 0.9004934210526315 (best: 0.9056332236842105)\n",
            "Epoch #52. lr: 0.01, train loss: 0.11344783237347236, val loss: 0.33166880356638057, val accuracy: 0.9056332236842105 (best: 0.9056332236842105)\n",
            "Epoch #53. lr: 0.01, train loss: 0.10880674782853861, val loss: 0.3370109498500824, val accuracy: 0.9043996710526315 (best: 0.9056332236842105)\n",
            "Epoch #54. lr: 0.01, train loss: 0.10626323897487078, val loss: 0.33809530264452886, val accuracy: 0.9043996710526315 (best: 0.9056332236842105)\n",
            "Epoch #55. lr: 0.01, train loss: 0.10602006118458052, val loss: 0.3446574995392247, val accuracy: 0.9017269736842105 (best: 0.9056332236842105)\n",
            "Epoch #56. lr: 0.01, train loss: 0.1022197731030293, val loss: 0.33861864711108963, val accuracy: 0.9049136513157895 (best: 0.9056332236842105)\n",
            "Epoch #57. lr: 0.01, train loss: 0.10229013341550644, val loss: 0.3477006052669726, val accuracy: 0.9052220394736842 (best: 0.9056332236842105)\n",
            "Epoch #58. lr: 0.01, train loss: 0.10081840511411429, val loss: 0.34595362606801483, val accuracy: 0.9060444078947368 (best: 0.9060444078947368)\n",
            "Epoch #59. lr: 0.01, train loss: 0.10023827716135061, val loss: 0.3520631899959163, val accuracy: 0.9043996710526315 (best: 0.9060444078947368)\n",
            "Epoch #60. lr: 0.01, train loss: 0.09645218218270785, val loss: 0.3656715860492305, val accuracy: 0.9006990131578947 (best: 0.9060444078947368)\n",
            "Epoch #61. lr: 0.01, train loss: 0.09619326354601444, val loss: 0.36401837279922084, val accuracy: 0.8997738486842105 (best: 0.9060444078947368)\n",
            "Traceback (most recent call last):\n",
            "  File \"MILTestTasks/src/train.py\", line 147, in <module>\n",
            "    main(args)\n",
            "  File \"MILTestTasks/src/train.py\", line 129, in main\n",
            "    train_loss = train(model, train_loader, loss_fn, optimizer, device)\n",
            "  File \"MILTestTasks/src/train.py\", line 34, in train\n",
            "    for batch in loader:\n",
            "  File \"/usr/local/lib/python3.7/dist-packages/torch/utils/data/dataloader.py\", line 435, in __next__\n",
            "    data = self._next_data()\n",
            "  File \"/usr/local/lib/python3.7/dist-packages/torch/utils/data/dataloader.py\", line 1068, in _next_data\n",
            "    idx, data = self._get_data()\n",
            "  File \"/usr/local/lib/python3.7/dist-packages/torch/utils/data/dataloader.py\", line 1024, in _get_data\n",
            "    success, data = self._try_get_data()\n",
            "  File \"/usr/local/lib/python3.7/dist-packages/torch/utils/data/dataloader.py\", line 872, in _try_get_data\n",
            "    data = self._data_queue.get(timeout=timeout)\n",
            "  File \"/usr/lib/python3.7/queue.py\", line 179, in get\n",
            "    self.not_empty.wait(remaining)\n",
            "  File \"/usr/lib/python3.7/threading.py\", line 300, in wait\n",
            "    gotit = waiter.acquire(True, timeout)\n",
            "KeyboardInterrupt\n"
          ],
          "name": "stdout"
        }
      ]
    },
    {
      "cell_type": "code",
      "metadata": {
        "colab": {
          "base_uri": "https://localhost:8080/"
        },
        "id": "3FxI5Tcyi17Q",
        "outputId": "71171544-07e8-4488-8d36-f75ac7464d67"
      },
      "source": [
        "!python src/train.py --model-path \"pretrained/model.pth\" --data-dir \"data\" -lr 0.001 --epochs 50 --gpu --resume"
      ],
      "execution_count": null,
      "outputs": [
        {
          "output_type": "stream",
          "text": [
            "Files already downloaded and verified\n",
            "loaded checkpoint 'model1.pth' (epochs: 58, accuracy: 0.9060444078947368, lr: 0.001)\n",
            "Epoch #59. lr: 0.001, train loss: 0.08849660574148098, val loss: 0.33587726950645447, val accuracy: 0.9064555921052632 (best: 0.9064555921052632)\n",
            "Epoch #60. lr: 0.001, train loss: 0.08539699405336228, val loss: 0.3311980256908818, val accuracy: 0.9070723684210527 (best: 0.9070723684210527)\n",
            "Epoch #61. lr: 0.001, train loss: 0.08454677898150224, val loss: 0.33425382877651016, val accuracy: 0.906969572368421 (best: 0.9070723684210527)\n",
            "Epoch #62. lr: 0.001, train loss: 0.08354043771441166, val loss: 0.3341315169083445, val accuracy: 0.9078947368421053 (best: 0.9078947368421053)\n",
            "Epoch #63. lr: 0.001, train loss: 0.08222649723100356, val loss: 0.33710645845061854, val accuracy: 0.9067639802631579 (best: 0.9078947368421053)\n",
            "Epoch #64. lr: 0.001, train loss: 0.0831649449821084, val loss: 0.3354896275620711, val accuracy: 0.9073807565789473 (best: 0.9078947368421053)\n",
            "Epoch #65. lr: 0.001, train loss: 0.07959794661460015, val loss: 0.34010462227620575, val accuracy: 0.9064555921052632 (best: 0.9078947368421053)\n",
            "Epoch #66. lr: 0.001, train loss: 0.08232328473375394, val loss: 0.3360153836639304, val accuracy: 0.9077919407894737 (best: 0.9078947368421053)\n",
            "Epoch #67. lr: 0.001, train loss: 0.08043653265310403, val loss: 0.33402321056315776, val accuracy: 0.907483552631579 (best: 0.9078947368421053)\n",
            "Epoch #68. lr: 0.001, train loss: 0.08076586591509673, val loss: 0.33746426434893356, val accuracy: 0.906969572368421 (best: 0.9078947368421053)\n",
            "Epoch #69. lr: 0.001, train loss: 0.08034149025781796, val loss: 0.33729551183549983, val accuracy: 0.9081003289473685 (best: 0.9081003289473685)\n",
            "Epoch #70. lr: 0.001, train loss: 0.0814088355558805, val loss: 0.3368671583501916, val accuracy: 0.9088199013157895 (best: 0.9088199013157895)\n",
            "Epoch #71. lr: 0.001, train loss: 0.07827291685419205, val loss: 0.33740436403374924, val accuracy: 0.9087171052631579 (best: 0.9088199013157895)\n",
            "Epoch #72. lr: 0.001, train loss: 0.07725908998877574, val loss: 0.3364786717452501, val accuracy: 0.9096422697368421 (best: 0.9096422697368421)\n",
            "Epoch #73. lr: 0.001, train loss: 0.07806576501864654, val loss: 0.34166921439923736, val accuracy: 0.9088199013157895 (best: 0.9096422697368421)\n",
            "Epoch #74. lr: 0.001, train loss: 0.07610127947364863, val loss: 0.33709997722977086, val accuracy: 0.9083059210526315 (best: 0.9096422697368421)\n",
            "Epoch #75. lr: 0.001, train loss: 0.07707156001661833, val loss: 0.34230559907461466, val accuracy: 0.908203125 (best: 0.9096422697368421)\n",
            "Epoch #76. lr: 0.001, train loss: 0.07448671929156168, val loss: 0.3414350355926313, val accuracy: 0.9079975328947368 (best: 0.9096422697368421)\n",
            "Epoch #77. lr: 0.001, train loss: 0.07544135882590826, val loss: 0.3426654997624849, val accuracy: 0.9071751644736842 (best: 0.9096422697368421)\n",
            "Epoch #78. lr: 0.001, train loss: 0.07693307697295379, val loss: 0.34067083346216304, val accuracy: 0.9085115131578947 (best: 0.9096422697368421)\n",
            "Epoch #79. lr: 0.001, train loss: 0.07909579882159447, val loss: 0.3370703050964757, val accuracy: 0.9079975328947368 (best: 0.9096422697368421)\n",
            "Epoch #80. lr: 0.001, train loss: 0.07508503082088935, val loss: 0.3458520393622549, val accuracy: 0.9067639802631579 (best: 0.9096422697368421)\n",
            "Epoch #81. lr: 0.001, train loss: 0.07494783654617958, val loss: 0.3474898526543065, val accuracy: 0.9067639802631579 (best: 0.9096422697368421)\n",
            "Epoch #82. lr: 0.001, train loss: 0.07431647719767613, val loss: 0.3405769514410119, val accuracy: 0.9072779605263158 (best: 0.9096422697368421)\n",
            "Epoch #83. lr: 0.001, train loss: 0.07539088268024036, val loss: 0.3432869017124176, val accuracy: 0.9066611842105263 (best: 0.9096422697368421)\n",
            "Epoch #84. lr: 0.001, train loss: 0.07338361790260443, val loss: 0.3444275510938544, val accuracy: 0.9066611842105263 (best: 0.9096422697368421)\n",
            "Epoch #85. lr: 0.001, train loss: 0.07551002220656627, val loss: 0.34508038194555984, val accuracy: 0.9068667763157895 (best: 0.9096422697368421)\n",
            "Epoch #86. lr: 0.001, train loss: 0.07215119717308344, val loss: 0.34755071213370875, val accuracy: 0.9072779605263158 (best: 0.9096422697368421)\n",
            "Epoch #87. lr: 0.001, train loss: 0.07629004089305035, val loss: 0.34573066234588623, val accuracy: 0.906969572368421 (best: 0.9096422697368421)\n",
            "Epoch #88. lr: 0.001, train loss: 0.07414183799559489, val loss: 0.34762859971899734, val accuracy: 0.9066611842105263 (best: 0.9096422697368421)\n",
            "Epoch #89. lr: 0.001, train loss: 0.07329436326160645, val loss: 0.3465587324217746, val accuracy: 0.905016447368421 (best: 0.9096422697368421)\n",
            "Epoch #90. lr: 0.001, train loss: 0.07150530342299205, val loss: 0.347012974713978, val accuracy: 0.9068667763157895 (best: 0.9096422697368421)\n",
            "Epoch #91. lr: 0.001, train loss: 0.07356964177332627, val loss: 0.342506258111251, val accuracy: 0.9071751644736842 (best: 0.9096422697368421)\n",
            "Epoch #92. lr: 0.001, train loss: 0.07152190659768307, val loss: 0.35100871481393514, val accuracy: 0.907483552631579 (best: 0.9096422697368421)\n",
            "Epoch #93. lr: 0.001, train loss: 0.07440026325340836, val loss: 0.34479686774705587, val accuracy: 0.9085115131578947 (best: 0.9096422697368421)\n",
            "Epoch #94. lr: 0.001, train loss: 0.0713156650845821, val loss: 0.34809700595705134, val accuracy: 0.908203125 (best: 0.9096422697368421)\n",
            "Epoch #95. lr: 0.001, train loss: 0.07271323838295081, val loss: 0.34826268726273585, val accuracy: 0.9072779605263158 (best: 0.9096422697368421)\n",
            "Epoch #96. lr: 0.001, train loss: 0.07228581439703703, val loss: 0.349240821443106, val accuracy: 0.9079975328947368 (best: 0.9096422697368421)\n",
            "Epoch #97. lr: 0.001, train loss: 0.07060430066612286, val loss: 0.34656152835017756, val accuracy: 0.906969572368421 (best: 0.9096422697368421)\n",
            "Epoch #98. lr: 0.001, train loss: 0.07081068662974314, val loss: 0.3538936862820073, val accuracy: 0.9064555921052632 (best: 0.9096422697368421)\n",
            "Epoch #99. lr: 0.001, train loss: 0.06936246093171529, val loss: 0.351203264374482, val accuracy: 0.9059416118421053 (best: 0.9096422697368421)\n",
            "Epoch #100. lr: 0.001, train loss: 0.07135592646514759, val loss: 0.34605563235910314, val accuracy: 0.9076891447368421 (best: 0.9096422697368421)\n",
            "Epoch #101. lr: 0.001, train loss: 0.06992773640279969, val loss: 0.3527359742867319, val accuracy: 0.9068667763157895 (best: 0.9096422697368421)\n",
            "Epoch #102. lr: 0.001, train loss: 0.07048633952075854, val loss: 0.35380419304496363, val accuracy: 0.9070723684210527 (best: 0.9096422697368421)\n",
            "Epoch #103. lr: 0.001, train loss: 0.06873749460642918, val loss: 0.3546699018854844, val accuracy: 0.9066611842105263 (best: 0.9096422697368421)\n",
            "Epoch #104. lr: 0.001, train loss: 0.06967465473482241, val loss: 0.35130514753492253, val accuracy: 0.9064555921052632 (best: 0.9096422697368421)\n",
            "Epoch #105. lr: 0.001, train loss: 0.0687897848801162, val loss: 0.3513764942947187, val accuracy: 0.9064555921052632 (best: 0.9096422697368421)\n",
            "Epoch #106. lr: 0.001, train loss: 0.06870053207549529, val loss: 0.34534631904802826, val accuracy: 0.9095394736842105 (best: 0.9096422697368421)\n",
            "Epoch #107. lr: 0.001, train loss: 0.06857405437204318, val loss: 0.3520407425729852, val accuracy: 0.9066611842105263 (best: 0.9096422697368421)\n",
            "Epoch #108. lr: 0.001, train loss: 0.06745667378298748, val loss: 0.3526930016906638, val accuracy: 0.907483552631579 (best: 0.9096422697368421)\n"
          ],
          "name": "stdout"
        }
      ]
    },
    {
      "cell_type": "code",
      "metadata": {
        "colab": {
          "base_uri": "https://localhost:8080/"
        },
        "id": "CWS-ZqBNjBKm",
        "outputId": "8a5d4c64-bdee-4fb9-ca26-3f88e864d3b1"
      },
      "source": [
        "!python src/evaluate.py --model-path \"pretrained/model.pth\" --data-dir \"data\" --gpu "
      ],
      "execution_count": null,
      "outputs": [
        {
          "output_type": "stream",
          "text": [
            "100% 20/20 [00:02<00:00,  9.17it/s]\n",
            "accuracy = 0.9088\n"
          ],
          "name": "stdout"
        }
      ]
    },
    {
      "cell_type": "code",
      "metadata": {
        "id": "FwX9xOW2hpAN"
      },
      "source": [
        ""
      ],
      "execution_count": null,
      "outputs": []
    }
  ]
}